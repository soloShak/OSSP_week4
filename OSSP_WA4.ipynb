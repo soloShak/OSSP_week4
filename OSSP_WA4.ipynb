{
  "nbformat": 4,
  "nbformat_minor": 0,
  "metadata": {
    "colab": {
      "provenance": []
    },
    "kernelspec": {
      "name": "python3",
      "display_name": "Python 3"
    },
    "language_info": {
      "name": "python"
    },
    "accelerator": "GPU",
    "gpuClass": "standard"
  },
  "cells": [
    {
      "cell_type": "code",
      "execution_count": 32,
      "metadata": {
        "id": "dYwq8gYp1yjW"
      },
      "outputs": [],
      "source": [
        "#2020315232 Shakhzod\n",
        "def rotateString(s, goal):\n",
        "  # Write a code here\n",
        "  resultFlag = False\n",
        "  for rotation in range(len(s)):\n",
        "    resultString = (s*3)[len(s) + rotation : 2*len(s) + rotation]\n",
        "    if (resultString == goal):\n",
        "      resultFlag = True\n",
        "      break\n",
        "  print(resultFlag)"
      ]
    }
  ]
}